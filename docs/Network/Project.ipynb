{
 "cells": [
  {
   "cell_type": "code",
   "execution_count": 1,
   "id": "340dd49c-5080-4a17-80b3-2aea3825a880",
   "metadata": {},
   "outputs": [],
   "source": [
    "import networkx as nx\n",
    "from pulp import *\n",
    "import numpy as np\n",
    "from sklearn.cluster import KMeans\n",
    "from node2vec import Node2Vec\n",
    "from matplotlib import pyplot as plt\n",
    "from copy import deepcopy\n",
    "#seeding"
   ]
  },
  {
   "cell_type": "code",
   "execution_count": 2,
   "id": "7f1bb536-c60a-4bc5-bdb5-db8f6f1a134e",
   "metadata": {},
   "outputs": [
    {
     "name": "stderr",
     "output_type": "stream",
     "text": [
      "/var/folders/b3/rxqhgxhx5sd119rsfyg2df4w0000gn/T/ipykernel_57458/22429923.py:3: DeprecationWarning: info is deprecated and will be removed in version 3.0.\n",
      "\n",
      "  nx.info(G)\n"
     ]
    },
    {
     "data": {
      "text/plain": [
       "'DiGraph with 27770 nodes and 352807 edges'"
      ]
     },
     "execution_count": 2,
     "metadata": {},
     "output_type": "execute_result"
    }
   ],
   "source": [
    "#import graph from text file\n",
    "G = nx.read_edgelist(\"Cit-HepTh.txt\",create_using=nx.DiGraph(), nodetype = int)\n",
    "nx.info(G)"
   ]
  },
  {
   "cell_type": "markdown",
   "id": "8c0c856f-e03b-40fb-a807-cea5c204e96c",
   "metadata": {},
   "source": [
    "## Data Preprocessing"
   ]
  },
  {
   "cell_type": "code",
   "execution_count": 3,
   "id": "c4bb208a-b34c-4fcb-9e08-db9d760dd882",
   "metadata": {},
   "outputs": [
    {
     "name": "stderr",
     "output_type": "stream",
     "text": [
      "/var/folders/b3/rxqhgxhx5sd119rsfyg2df4w0000gn/T/ipykernel_57458/1463069069.py:11: DeprecationWarning: info is deprecated and will be removed in version 3.0.\n",
      "\n",
      "  nx.info(G)\n"
     ]
    },
    {
     "data": {
      "text/plain": [
       "'DiGraph with 27400 nodes and 352504 edges'"
      ]
     },
     "execution_count": 3,
     "metadata": {},
     "output_type": "execute_result"
    }
   ],
   "source": [
    "### Remove all self refrences\n",
    "G.remove_edges_from(nx.selfloop_edges(G))\n",
    "\n",
    "### This is to prune out the unconnected nodes and only use the largest compenent graph\n",
    "Gprune = deepcopy(G)\n",
    "Gprune = Gprune.to_undirected()\n",
    "Gcc = sorted(nx.connected_components(Gprune), key=len, reverse = True)\n",
    "Glargest = G.subgraph(Gcc[0])\n",
    "G = Glargest ### reassign the largest component to our graph variable\n",
    "\n",
    "nx.info(G)"
   ]
  },
  {
   "cell_type": "markdown",
   "id": "7b90f868-6a17-471b-a8f3-b2170c3283a4",
   "metadata": {},
   "source": [
    "## Cluster Analysis"
   ]
  },
  {
   "cell_type": "code",
   "execution_count": 4,
   "id": "04a8d4b1-a5ba-41fe-9630-24fd18cea9ff",
   "metadata": {},
   "outputs": [
    {
     "data": {
      "application/vnd.jupyter.widget-view+json": {
       "model_id": "8a4226ebdb954338b205b1578d756250",
       "version_major": 2,
       "version_minor": 0
      },
      "text/plain": [
       "Computing transition probabilities:   0%|          | 0/27400 [00:00<?, ?it/s]"
      ]
     },
     "metadata": {},
     "output_type": "display_data"
    },
    {
     "name": "stderr",
     "output_type": "stream",
     "text": [
      "Generating walks (CPU: 1): 100%|██████████| 2/2 [00:00<00:00,  2.89it/s]\n",
      "Generating walks (CPU: 2): 100%|██████████| 2/2 [00:00<00:00,  2.87it/s]\n",
      "Generating walks (CPU: 3): 100%|██████████| 2/2 [00:00<00:00,  2.90it/s]\n",
      "Generating walks (CPU: 4): 100%|██████████| 2/2 [00:00<00:00,  2.90it/s]\n",
      "Generating walks (CPU: 5): 100%|██████████| 1/1 [00:00<00:00,  2.76it/s]\n",
      "Generating walks (CPU: 6): 100%|██████████| 1/1 [00:00<00:00,  2.83it/s]\n"
     ]
    }
   ],
   "source": [
    "#vectorization of the nodes\n",
    "node2vec = Node2Vec(G, dimensions=2, walk_length=20, num_walks=10,workers=6)\n",
    "model = node2vec.fit(window=10, min_count=1)\n",
    "model.wv.save_word2vec_format(\"embedding.emb\")"
   ]
  },
  {
   "cell_type": "code",
   "execution_count": 5,
   "id": "a82721cd-eb69-4f6c-b177-73525f59402c",
   "metadata": {},
   "outputs": [
    {
     "data": {
      "image/png": "[encoded data removed]",
      "text/plain": [
       "<Figure size 432x288 with 1 Axes>"
      ]
     },
     "metadata": {
      "needs_background": "light"
     },
     "output_type": "display_data"
    }
   ],
   "source": [
    "#import data\n",
    "data = np.loadtxt(\"embedding.emb\", skiprows=1)\n",
    "\n",
    "#data pre-processing to fit the structure\n",
    "data =data[data[:,0].argsort()]\n",
    "data1=data[0:data.shape[0],1:data.shape[1]]\n",
    "\n",
    "#elbow method to find K\n",
    "sumdist = {}\n",
    "for k in range(1, 10):\n",
    "    kmeans = KMeans(n_clusters=k, max_iter=1000).fit(data1)\n",
    "    #labeling each node to cluster\n",
    "    labels = kmeans.labels_\n",
    "    #finding the sum within same cluster\n",
    "    sumdist[k] = kmeans.inertia_\n",
    "\n",
    "plt.figure()\n",
    "plt.plot(list(sumdist.keys()), list(sumdist.values()))\n",
    "plt.title(\"Elbow Method\")\n",
    "plt.xlabel(\"Number of Clusters\")\n",
    "plt.ylabel(\"Sum of Distance from Center\")\n",
    "#save file\n",
    "#plt.savefig(\"KMeans_Elbow.png\")\n",
    "plt.show()"
   ]
  },
  {
   "cell_type": "markdown",
   "id": "b0361ba5-d2f6-444d-9c91-a112726fe54c",
   "metadata": {},
   "source": [
    "## Creating Clusters"
   ]
  },
  {
   "cell_type": "code",
   "execution_count": 6,
   "id": "9b33f519-0ed1-4d6e-aeee-64cb29137896",
   "metadata": {},
   "outputs": [],
   "source": [
    "#we shall choose K = 5 based on the elbow method\n",
    "np.random.seed(123456789)\n",
    "k=5\n",
    "kmeans = KMeans(n_clusters=k, max_iter=1000).fit(data1)\n",
    "labels = kmeans.labels_\n",
    "labels_list = labels.tolist()"
   ]
  },
  {
   "cell_type": "code",
   "execution_count": 7,
   "id": "1034588c-64f5-4a78-975f-ee8afcc2bda4",
   "metadata": {},
   "outputs": [],
   "source": [
    "#set node attribute with the labels\n",
    "att = {}\n",
    "nodes_list = list(G.nodes)\n",
    "for i in range(len(nodes_list)):\n",
    "    att[nodes_list[i]] = labels_list[i]\n",
    "nx.set_node_attributes(G,att, name=\"Cluster\")"
   ]
  },
  {
   "cell_type": "code",
   "execution_count": 8,
   "id": "c537f673-3fe9-4e40-b6b6-8f2bf898053e",
   "metadata": {},
   "outputs": [],
   "source": [
    "#dictionary of each nodes in clusters\n",
    "clusternodes = {}\n",
    "for i in range(k):\n",
    "    cluster = []\n",
    "    for (p, d) in G.nodes(data=True):\n",
    "        if d[\"Cluster\"] == i:\n",
    "            cluster.append(p)\n",
    "    clusternodes[i]=cluster\n",
    "\n",
    "#create graphs of nodes and edges based on its cluster label\n",
    "Gcluster = {}\n",
    "for i in range(0,k):\n",
    "    Graph = nx.DiGraph()\n",
    "    for j in clusternodes[i]:\n",
    "        Graph.add_node(j)\n",
    "    for (u,v) in G.edges:\n",
    "        if u in Graph.nodes and v in Graph.nodes:\n",
    "            Graph.add_edge(u,v)\n",
    "    Gcluster[i] = Graph"
   ]
  },
  {
   "cell_type": "markdown",
   "id": "55346307-16ad-46be-9972-8dfb9c4098eb",
   "metadata": {},
   "source": [
    "## Betweness Centrality"
   ]
  },
  {
   "cell_type": "code",
   "execution_count": 9,
   "id": "5c0a7283-0208-4485-98d6-d48ec26e9aa9",
   "metadata": {},
   "outputs": [
    {
     "name": "stdout",
     "output_type": "stream",
     "text": [
      "For Cluster 0, the max centrality node is 9908142\n",
      "For Cluster 1, the max centrality node is 9711200\n",
      "For Cluster 2, the max centrality node is 9912271\n",
      "For Cluster 3, the max centrality node is 9803194\n",
      "For Cluster 4, the max centrality node is 9905111\n"
     ]
    }
   ],
   "source": [
    "#calculate betwness centrality for each cluster and find the node with maximum centrality\n",
    "bccluster = {}\n",
    "for i in range(k):\n",
    "    bc = nx.betweenness_centrality(Gcluster[i])\n",
    "    for key, value in bc.items():\n",
    "        if bc[key] == max(bc.values()):\n",
    "            print(\"For Cluster {}, the max centrality node is {}\".format(i,key))\n",
    "            #assign dictionary for later use\n",
    "            bccluster[i] = key"
   ]
  },
  {
   "cell_type": "markdown",
   "id": "40df643e-f7c2-455a-8637-16a4c703bfd7",
   "metadata": {},
   "source": [
    "## Depth Search First (DFS)"
   ]
  },
  {
   "cell_type": "code",
   "execution_count": 10,
   "id": "0900c6fd-1370-439a-a2d2-fc59acb18f29",
   "metadata": {},
   "outputs": [
    {
     "name": "stdout",
     "output_type": "stream",
     "text": [
      "(9812021, 1674)\n"
     ]
    }
   ],
   "source": [
    "#finding the node with the highest DFS successors\n",
    "maxnum = 0\n",
    "prolific = None\n",
    "#compare by dividing into clusters for faster computation\n",
    "for c in range(k):\n",
    "    for i in range(len(Gcluster[c])):\n",
    "        l = nx.dfs_successors(Gcluster[c],list(Gcluster[c].nodes)[i])\n",
    "        if len(l) > maxnum:\n",
    "            maxnum = len(l)\n",
    "            prolific = (nodes_list[i],len(l))\n",
    "print(prolific)"
   ]
  },
  {
   "cell_type": "markdown",
   "id": "242af989-a6ce-4035-bd04-797fec420381",
   "metadata": {},
   "source": [
    "## Linear Programming"
   ]
  },
  {
   "cell_type": "code",
   "execution_count": 11,
   "id": "87d165bf-e82f-4146-9329-427effc2bb6e",
   "metadata": {},
   "outputs": [],
   "source": [
    "# Cut out all nodes that have less than 10 edges.\n",
    "from copy import deepcopy\n",
    "Gcluster_LP = deepcopy(Gcluster)\n",
    "\n",
    "for i in range(k):\n",
    "    nodes = Gcluster[i].nodes()\n",
    "    for node in nodes:\n",
    "        # drop all nodes that have less then 10 citations.\n",
    "        if len(Gcluster[i].in_edges(node)) < 10:\n",
    "            Gcluster_LP[i].remove_node(node)\n",
    "    #only need an undirected graph to show related topics\n",
    "    Gcluster_LP[i] = Gcluster_LP[i].to_undirected()\n",
    "    \n",
    "    #take only the largest component to remove stragglers\n",
    "    Gcc = sorted(nx.connected_components(Gcluster_LP[i]), key=len, reverse = True)\n",
    "    Glargest = Gcluster_LP[i].subgraph(Gcc[0])\n",
    "    Gcluster_LP[i] = Glargest"
   ]
  },
  {
   "cell_type": "code",
   "execution_count": 12,
   "id": "a0ba0de4-4c19-4658-82e3-e8c52f68165c",
   "metadata": {},
   "outputs": [],
   "source": [
    "def MinimumNodeCover(G):\n",
    "    ###Function to find the minimum nodes to connect the graph (dominating set)\n",
    "    \n",
    "    prob = LpProblem(name=\"graphs\", sense=LpMinimize)\n",
    "    #Vars\n",
    "    nodes = pulp.LpVariable.dicts('node',(name for name in G.nodes()),\n",
    "                                       lowBound=0, upBound=1,\n",
    "                                       cat='Integer')\n",
    "\n",
    "   #obj\n",
    "    prob += lpSum([nodes[i] for i in G.nodes()])  # Sum on the selected nodes\n",
    "\n",
    "   #cons\n",
    "    #suboptimal because each non-self edge is counted twice. only need to look at values that are greater\n",
    "    for j in G.nodes():\n",
    "        prob += lpSum(nodes[i]*G.has_edge(i,j)+nodes[j] for i in G.nodes()) >= 1\n",
    "    \n",
    "    #PULP_CBC_CMD(msg=False) is to remove annoying text introduction of pulp\n",
    "    prob.solve(PULP_CBC_CMD(msg=False))\n",
    "    \n",
    "    # Get the list of selected nodes\n",
    "    pickednodes = []\n",
    "    \n",
    "    for variable in prob.variables():\n",
    "        if variable.varValue == 1:\n",
    "            pickednodes.append(variable)\n",
    "        \n",
    "    return(pulp.value(prob.objective), pickednodes)\n",
    "\n"
   ]
  },
  {
   "cell_type": "code",
   "execution_count": 13,
   "id": "7766aef0-6f92-41cc-9711-8bb194f8eb07",
   "metadata": {},
   "outputs": [],
   "source": [
    "## find the dominating set for each cluster\n",
    "clustersolution = {}\n",
    "for i in range(k):\n",
    "    solnum, sollist = MinimumNodeCover(Gcluster_LP[i])\n",
    "    clustersolution[i] = {\"count\": solnum, \"list\": sollist}"
   ]
  },
  {
   "cell_type": "code",
   "execution_count": 14,
   "id": "57a410d1-4e1f-4225-b964-2f52198374c6",
   "metadata": {},
   "outputs": [
    {
     "name": "stdout",
     "output_type": "stream",
     "text": [
      "0 :  119.0\n",
      "1 :  60.0\n",
      "2 :  1.0\n",
      "Papers in Cluster 2 : [node_10108]\n",
      "3 :  7.0\n",
      "4 :  66.0\n"
     ]
    }
   ],
   "source": [
    "#print answers\n",
    "for i in range(0,k):\n",
    "    print(i, \": \", clustersolution[i][\"count\"])\n",
    "    ### print papers if there are only 5 nodes in the solution\n",
    "    if clustersolution[i][\"count\"] < 5:\n",
    "        print(\"Papers in Cluster\", i, \":\", clustersolution[i][\"list\"])"
   ]
  },
  {
   "cell_type": "markdown",
   "id": "dac55ab1-4383-4119-99a0-3e06b78b8256",
   "metadata": {},
   "source": [
    "## Longest Path"
   ]
  },
  {
   "cell_type": "code",
   "execution_count": 15,
   "id": "2b3cc458-bb71-46e9-b346-10a6b39586f6",
   "metadata": {},
   "outputs": [
    {
     "data": {
      "text/plain": [
       "{0: [304073, 304211],\n",
       " 1: [10009, 11034, 108038, 110091, 202069, 212256, 301092, 304215],\n",
       " 2: [201178, 210217, 211261, 211271, 211291],\n",
       " 3: [301090],\n",
       " 4: [303069]}"
      ]
     },
     "execution_count": 15,
     "metadata": {},
     "output_type": "execute_result"
    }
   ],
   "source": [
    "#finding outlier paper\n",
    "#set each cluster edge weight to -1 to fix longest path cycles\n",
    "for i in range(0,k):\n",
    "    Gcluster[i] = Gcluster[i].reverse()\n",
    "    \n",
    "# calculate the shortest path for each node from the central node, then we can take the largest for each cluster    \n",
    "outliercluster= {}\n",
    "for i in range(0,k):\n",
    "    holder = {}\n",
    "    \n",
    "    for node in Gcluster[i].nodes():\n",
    "        try:\n",
    "            holder[node] = len(nx.dijkstra_path(Gcluster[i], bccluster[i], node))\n",
    "        except:\n",
    "            holder[node] = -1 # shows that there is no path to the central\n",
    "    # want the node and the distance\n",
    "    longest = max(holder.values())\n",
    "    outliercluster[i] = [key for (key, value) in holder.items() if value == longest]\n",
    "outliercluster"
   ]
  },
  {
   "cell_type": "code",
   "execution_count": null,
   "id": "964b93ca-1c6c-4963-936b-caef54140bdd",
   "metadata": {},
   "outputs": [],
   "source": []
  }
 ],
 "metadata": {
  "kernelspec": {
   "display_name": "Python 3 (ipykernel)",
   "language": "python",
   "name": "python3"
  },
  "language_info": {
   "codemirror_mode": {
    "name": "ipython",
    "version": 3
   },
   "file_extension": ".py",
   "mimetype": "text/x-python",
   "name": "python",
   "nbconvert_exporter": "python",
   "pygments_lexer": "ipython3",
   "version": "3.9.12"
  }
 },
 "nbformat": 4,
 "nbformat_minor": 5
}
